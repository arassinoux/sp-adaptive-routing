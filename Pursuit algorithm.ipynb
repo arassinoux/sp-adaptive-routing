{
 "cells": [
  {
   "cell_type": "markdown",
   "metadata": {},
   "source": [
    "# Pursuit algorithm"
   ]
  },
  {
   "cell_type": "code",
   "execution_count": 10,
   "metadata": {
    "collapsed": true
   },
   "outputs": [],
   "source": [
    "#Init arms\n",
    "class BernoulliArm():\n",
    "    def __init__(self, p):\n",
    "        self.p = p\n",
    "\n",
    "    def draw(self):\n",
    "        if np.random.random() > self.p:\n",
    "            return 0\n",
    "        else:\n",
    "            return 1.0"
   ]
  },
  {
   "cell_type": "code",
   "execution_count": 11,
   "metadata": {
    "collapsed": true
   },
   "outputs": [],
   "source": [
    "import numpy as np"
   ]
  },
  {
   "cell_type": "code",
   "execution_count": 12,
   "metadata": {
    "collapsed": true
   },
   "outputs": [],
   "source": [
    "#Arms parameters\n",
    "n = 4 # Number of arms\n",
    "means = [0.45, 0.55, 0, 0] # Prendre en considération n\n",
    "arms = []\n",
    "for mean in means:\n",
    "    arms.append(BernoulliArm(mean))"
   ]
  },
  {
   "cell_type": "code",
   "execution_count": 13,
   "metadata": {
    "collapsed": true
   },
   "outputs": [],
   "source": [
    "# Simulation\n",
    "counts = np.zeros(n, dtype=int) #Number of counts that we use arm n\n",
    "values = np.zeros(n) # average amount of reward we’ve gotten when playing each of the N arms\n",
    "probabilities = np.ones(n)/n\n",
    "times = 500 # Number of turns\n",
    "chosen_arms = [0.0 for i in range(times)]\n",
    "rewards = [0.0 for i in range(times)]\n",
    "cumulative_rewards = 0.0"
   ]
  },
  {
   "cell_type": "code",
   "execution_count": 16,
   "metadata": {
    "collapsed": true
   },
   "outputs": [],
   "source": [
    "def weighted_choice(weights):\n",
    "    totals = np.cumsum(weights)\n",
    "    norm = totals[-1]\n",
    "    throw = np.random.rand()*norm\n",
    "    return np.searchsorted(totals, throw)\n",
    "\n",
    " \n",
    "# Do the pursuit algorithm\n",
    "def select_arm(probabilities, values, t):\n",
    "    beta = 0.05\n",
    "    #calculate new probabilities\n",
    "    if t == 0:\n",
    "        return np.random.randint(len(values)) # First time\n",
    "    else:\n",
    "        dist = weighted_choice(probabilities)\n",
    "        \n",
    "        for ind, probability in enumerate(probabilities, start=0):\n",
    "            if ind == np.argmax(values):\n",
    "                probabilities[ind] = probability + (beta * (1 - probability))\n",
    "            else: \n",
    "                probabilities[ind] = probability + (beta * (0 - probability))\n",
    "    \n",
    "    return dist"
   ]
  },
  {
   "cell_type": "code",
   "execution_count": 15,
   "metadata": {},
   "outputs": [
    {
     "name": "stdout",
     "output_type": "stream",
     "text": [
      "500\n",
      "[1, 3, 0, 3, 0, 1, 2, 1, 3, 1, 2, 1, 1, 3, 1, 1, 1, 1, 1, 1, 2, 1, 1, 1, 1, 1, 1, 1, 1, 1, 1, 1, 0, 1, 1, 1, 1, 1, 1, 1, 1, 1, 1, 0, 1, 1, 1, 1, 1, 1, 1, 3, 1, 1, 1, 1, 1, 1, 1, 1, 1, 1, 1, 1, 1, 1, 1, 1, 1, 1, 1, 1, 1, 1, 1, 1, 1, 1, 1, 1, 1, 1, 1, 1, 1, 1, 1, 1, 1, 1, 1, 1, 1, 1, 1, 1, 1, 1, 1, 1, 1, 1, 1, 1, 1, 1, 1, 1, 1, 1, 1, 1, 1, 1, 1, 1, 1, 1, 1, 1, 1, 1, 1, 1, 1, 1, 1, 1, 1, 1, 1, 1, 1, 1, 1, 1, 1, 1, 1, 1, 1, 1, 1, 1, 1, 1, 1, 1, 1, 1, 1, 1, 1, 1, 1, 1, 1, 1, 1, 1, 1, 1, 1, 1, 1, 1, 1, 1, 1, 1, 1, 1, 1, 1, 1, 1, 1, 1, 1, 1, 1, 1, 1, 1, 1, 1, 1, 1, 1, 1, 1, 1, 1, 1, 1, 1, 1, 1, 1, 1, 1, 1, 1, 1, 1, 1, 1, 1, 1, 1, 1, 1, 1, 1, 1, 1, 1, 1, 1, 1, 1, 1, 1, 1, 1, 1, 1, 1, 1, 1, 1, 1, 1, 1, 1, 1, 1, 1, 1, 1, 1, 1, 1, 1, 1, 1, 1, 1, 1, 1, 1, 1, 1, 1, 1, 1, 1, 1, 1, 1, 1, 1, 1, 1, 1, 1, 1, 1, 1, 1, 1, 1, 1, 1, 1, 1, 1, 1, 1, 1, 1, 1, 1, 1, 1, 1, 1, 1, 1, 1, 1, 1, 1, 1, 1, 1, 1, 1, 1, 1, 1, 1, 1, 1, 1, 1, 1, 1, 1, 1, 1, 1, 1, 1, 1, 1, 1, 1, 1, 1, 1, 1, 1, 1, 1, 1, 1, 1, 1, 1, 1, 1, 1, 1, 1, 1, 1, 1, 1, 1, 1, 1, 1, 1, 1, 1, 1, 1, 1, 1, 1, 1, 1, 1, 1, 1, 1, 1, 1, 1, 1, 1, 1, 1, 1, 1, 1, 1, 1, 1, 1, 1, 1, 1, 1, 1, 1, 1, 1, 1, 1, 1, 1, 1, 1, 1, 1, 1, 1, 1, 1, 1, 1, 1, 1, 1, 1, 1, 1, 1, 1, 1, 1, 1, 1, 1, 1, 1, 1, 1, 1, 1, 1, 1, 1, 1, 1, 1, 1, 1, 1, 1, 1, 1, 1, 1, 1, 1, 1, 1, 1, 1, 1, 1, 1, 1, 1, 1, 1, 1, 1, 1, 1, 1, 1, 1, 1, 1, 1, 1, 1, 1, 1, 1, 1, 1, 1, 1, 1, 1, 1, 1, 1, 1, 1, 1, 1, 1, 1, 1, 1, 1, 1, 1, 1, 1, 1, 1, 1, 1, 1, 1, 1, 1, 1, 1, 1, 1, 1, 1, 1, 1, 1, 1, 1, 1, 1, 1, 1, 1]\n",
      "[1.0, 0, 0, 0, 0, 0, 0, 1.0, 0, 0, 0, 1.0, 1.0, 0, 1.0, 0, 0, 0, 1.0, 1.0, 0, 0, 1.0, 1.0, 1.0, 0, 1.0, 1.0, 0, 1.0, 1.0, 1.0, 0, 1.0, 1.0, 1.0, 1.0, 1.0, 1.0, 1.0, 1.0, 1.0, 0, 0, 0, 1.0, 1.0, 1.0, 1.0, 1.0, 1.0, 0, 1.0, 0, 1.0, 1.0, 0, 0, 0, 1.0, 0, 0, 1.0, 0, 1.0, 0, 1.0, 1.0, 1.0, 0, 1.0, 1.0, 0, 1.0, 0, 1.0, 1.0, 1.0, 1.0, 1.0, 1.0, 0, 1.0, 0, 0, 1.0, 0, 0, 0, 1.0, 0, 0, 0, 0, 1.0, 0, 1.0, 1.0, 1.0, 0, 0, 0, 1.0, 1.0, 1.0, 1.0, 1.0, 0, 1.0, 1.0, 1.0, 0, 1.0, 0, 1.0, 0, 0, 1.0, 1.0, 0, 0, 0, 1.0, 1.0, 0, 0, 1.0, 1.0, 1.0, 1.0, 1.0, 0, 0, 1.0, 1.0, 1.0, 1.0, 1.0, 0, 1.0, 1.0, 1.0, 1.0, 0, 1.0, 0, 1.0, 1.0, 1.0, 0, 0, 0, 0, 1.0, 1.0, 0, 0, 1.0, 0, 1.0, 0, 1.0, 1.0, 1.0, 0, 1.0, 0, 0, 0, 1.0, 1.0, 0, 0, 1.0, 0, 1.0, 0, 1.0, 0, 0, 1.0, 0, 1.0, 1.0, 0, 1.0, 1.0, 1.0, 1.0, 0, 0, 0, 1.0, 1.0, 1.0, 0, 1.0, 0, 1.0, 1.0, 1.0, 1.0, 0, 0, 1.0, 0, 1.0, 0, 1.0, 1.0, 1.0, 1.0, 1.0, 1.0, 1.0, 1.0, 1.0, 0, 1.0, 0, 1.0, 0, 1.0, 1.0, 0, 1.0, 1.0, 0, 1.0, 0, 1.0, 1.0, 0, 1.0, 1.0, 1.0, 0, 1.0, 0, 1.0, 0, 0, 0, 0, 1.0, 0, 1.0, 0, 1.0, 1.0, 1.0, 0, 1.0, 1.0, 0, 0, 1.0, 0, 1.0, 1.0, 0, 0, 1.0, 1.0, 1.0, 0, 0, 0, 1.0, 1.0, 1.0, 1.0, 0, 0, 1.0, 1.0, 1.0, 1.0, 0, 0, 0, 0, 0, 0, 1.0, 0, 1.0, 1.0, 1.0, 0, 1.0, 0, 0, 1.0, 1.0, 0, 0, 1.0, 0, 0, 0, 1.0, 1.0, 0, 1.0, 0, 1.0, 1.0, 1.0, 0, 0, 0, 0, 1.0, 0, 0, 1.0, 1.0, 1.0, 1.0, 1.0, 1.0, 0, 1.0, 1.0, 0, 1.0, 0, 0, 1.0, 0, 0, 0, 1.0, 1.0, 0, 0, 1.0, 0, 1.0, 0, 1.0, 1.0, 1.0, 0, 1.0, 1.0, 0, 0, 0, 0, 1.0, 1.0, 1.0, 0, 1.0, 1.0, 0, 1.0, 1.0, 1.0, 0, 1.0, 0, 1.0, 1.0, 1.0, 1.0, 0, 0, 0, 0, 1.0, 0, 1.0, 0, 1.0, 0, 0, 1.0, 0, 1.0, 0, 1.0, 0, 1.0, 1.0, 0, 0, 0, 0, 1.0, 1.0, 0, 1.0, 0, 0, 1.0, 1.0, 1.0, 1.0, 1.0, 1.0, 1.0, 1.0, 1.0, 1.0, 1.0, 0, 1.0, 1.0, 1.0, 1.0, 1.0, 0, 1.0, 1.0, 0, 1.0, 0, 1.0, 0, 0, 1.0, 1.0, 1.0, 0, 0, 0, 0, 0, 0, 1.0, 0, 1.0, 0, 1.0, 1.0, 1.0, 1.0, 1.0, 1.0, 0, 0, 1.0, 0, 1.0, 1.0, 0, 0, 1.0, 0, 1.0, 0, 0, 0, 1.0, 0, 0, 0, 1.0, 1.0, 1.0, 1.0, 0, 1.0, 0, 1.0, 0, 1.0, 1.0, 1.0, 0, 0, 1.0, 1.0, 1.0, 0, 0, 1.0, 1.0, 1.0, 1.0, 0, 1.0, 0, 1.0, 1.0, 0, 1.0, 0, 0, 0, 1.0, 0, 0, 0, 0, 1.0, 1.0]\n",
      "279.0\n"
     ]
    }
   ],
   "source": [
    "for t in range(times):\n",
    "    chosen_arm = select_arm(probabilities, values, t)  # Run pursuit algo\n",
    "    reward = arms[chosen_arm].draw()\n",
    "    \n",
    "    #Logging purposes\n",
    "    chosen_arms[t] = chosen_arm  # Logging\n",
    "    rewards[t] = reward  # Logging\n",
    "    \n",
    "    counts[chosen_arm] += 1\n",
    "    _n = counts[chosen_arm]\n",
    "    \n",
    "    value = values[chosen_arm]\n",
    "    new_value = ((_n - 1) / float(_n)) * value + (1 / float(_n)) * reward  #empirical mean\n",
    "    values[chosen_arm] = new_value\n",
    "    \n",
    "    cumulative_rewards = cumulative_rewards + reward\n",
    "\n",
    "print(times) \n",
    "print(chosen_arms)\n",
    "print(rewards)\n",
    "print(cumulative_rewards)"
   ]
  },
  {
   "cell_type": "code",
   "execution_count": null,
   "metadata": {
    "collapsed": true
   },
   "outputs": [],
   "source": []
  }
 ],
 "metadata": {
  "kernelspec": {
   "display_name": "Python 3",
   "language": "python",
   "name": "python3"
  },
  "language_info": {
   "codemirror_mode": {
    "name": "ipython",
    "version": 3
   },
   "file_extension": ".py",
   "mimetype": "text/x-python",
   "name": "python",
   "nbconvert_exporter": "python",
   "pygments_lexer": "ipython3",
   "version": "3.6.3"
  }
 },
 "nbformat": 4,
 "nbformat_minor": 2
}
